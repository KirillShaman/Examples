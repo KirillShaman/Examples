{
 "cells": [
  {
   "cell_type": "markdown",
   "metadata": {},
   "source": [
    "I've written before on Kernel methods (in the context of support vector machines).\n",
    " \n",
    "  * [https://win-vector.com/2011/10/07/kernel-methods-and-support-vector-machines-de-mystified/](https://win-vector.com/2011/10/07/kernel-methods-and-support-vector-machines-de-mystified/)\n",
    "  * [https://win-vector.com/2015/02/14/how-sure-are-you-that-large-margin-implies-low-vc-dimension/](https://win-vector.com/2015/02/14/how-sure-are-you-that-large-margin-implies-low-vc-dimension/)\n",
    "\n",
    "Here we will show how to check a 3 by 3 matrix for positive definiteness and positive semi-definiteness."
   ]
  },
  {
   "cell_type": "markdown",
   "metadata": {},
   "source": [
    "Recreating [A.Γ.](https://math.stackexchange.com/users/253273/a-Γ)'s demonstration ([https://math.stackexchange.com/questions/1355088/is-the-absolute-value-of-a-p-d-s-matrix-p-d-s#comment2758302_1355088](https://math.stackexchange.com/questions/1355088/is-the-absolute-value-of-a-p-d-s-matrix-p-d-s#comment2758302_1355088)) that the absolute value of a 3 by 3 real symmetric positive semi-definite matrix is also positive semi-definite.\n",
    "\n",
    "First we write down such a matrix, using capitals for positions known to be positive or non-negative (depending if we are checking positive definiteness or positive semidefiniteness)."
   ]
  },
  {
   "cell_type": "code",
   "execution_count": 1,
   "metadata": {},
   "outputs": [],
   "source": [
    "import sympy"
   ]
  },
  {
   "cell_type": "code",
   "execution_count": 2,
   "metadata": {},
   "outputs": [],
   "source": [
    "sympy.init_printing(use_unicode=True)"
   ]
  },
  {
   "cell_type": "code",
   "execution_count": 3,
   "metadata": {},
   "outputs": [],
   "source": [
    "A, B, C, d, e, f = sympy.symbols('A B C d e f')"
   ]
  },
  {
   "cell_type": "code",
   "execution_count": 4,
   "metadata": {},
   "outputs": [
    {
     "data": {
      "text/latex": [
       "$\\displaystyle \\left[\\begin{matrix}A & d & f\\\\d & B & e\\\\f & e & C\\end{matrix}\\right]$"
      ],
      "text/plain": [
       "⎡A  d  f⎤\n",
       "⎢       ⎥\n",
       "⎢d  B  e⎥\n",
       "⎢       ⎥\n",
       "⎣f  e  C⎦"
      ]
     },
     "execution_count": 4,
     "metadata": {},
     "output_type": "execute_result"
    }
   ],
   "source": [
    "mat3 = sympy.Matrix([\n",
    "    [A, d, f], \n",
    "    [d, B, e], \n",
    "    [f, e, C]])\n",
    "mat3"
   ]
  },
  {
   "cell_type": "markdown",
   "metadata": {},
   "source": [
    "Now we use Sylvester's criterion ([https://en.wikipedia.org/wiki/Sylvester%27s_criterion](https://en.wikipedia.org/wiki/Sylvester%27s_criterion)), which states such a matrix is positive definite iff all leading pricipal minors have positive determinant."
   ]
  },
  {
   "cell_type": "markdown",
   "metadata": {},
   "source": [
    "First we check the positive definite case. Here we assume `A`, `B`, and `C` are positive and only need to check the initial principal minors."
   ]
  },
  {
   "cell_type": "code",
   "execution_count": 5,
   "metadata": {},
   "outputs": [
    {
     "data": {
      "text/latex": [
       "$\\displaystyle \\left[\\begin{matrix}A\\end{matrix}\\right]$"
      ],
      "text/plain": [
       "[A]"
      ]
     },
     "execution_count": 5,
     "metadata": {},
     "output_type": "execute_result"
    }
   ],
   "source": [
    "mat1 = sympy.Matrix([\n",
    "    [mat3[0,0]]])\n",
    "mat1"
   ]
  },
  {
   "cell_type": "code",
   "execution_count": 6,
   "metadata": {},
   "outputs": [
    {
     "data": {
      "text/latex": [
       "$\\displaystyle \\left[\\begin{matrix}A & d\\\\d & B\\end{matrix}\\right]$"
      ],
      "text/plain": [
       "⎡A  d⎤\n",
       "⎢    ⎥\n",
       "⎣d  B⎦"
      ]
     },
     "execution_count": 6,
     "metadata": {},
     "output_type": "execute_result"
    }
   ],
   "source": [
    "mat2 = sympy.Matrix([\n",
    "    [mat3[0, 0], mat3[0, 1]], \n",
    "    [mat3[1, 0], mat3[1, 1]]])\n",
    "mat2"
   ]
  },
  {
   "cell_type": "code",
   "execution_count": 7,
   "metadata": {},
   "outputs": [
    {
     "data": {
      "image/png": "[encoded data removed]",
      "text/latex": [
       "$\\displaystyle \\left[ A, \\  A B - d^{2}, \\  A B C - A e^{2} - B f^{2} - C d^{2} + 2 d e f\\right]$"
      ],
      "text/plain": [
       "⎡          2             2      2      2          ⎤\n",
       "⎣A, A⋅B - d , A⋅B⋅C - A⋅e  - B⋅f  - C⋅d  + 2⋅d⋅e⋅f⎦"
      ]
     },
     "execution_count": 7,
     "metadata": {},
     "output_type": "execute_result"
    }
   ],
   "source": [
    "[mat1.det(), mat2.det(), mat3.det()]"
   ]
  },
  {
   "cell_type": "markdown",
   "metadata": {},
   "source": [
    "The positive definite case is proved as follows. By assumption all of these terms are positve, we are asking if replacing the symbols `d`, `e`, and `f` with their absolute values (`|d|`, `|e|`, and `|f|`) can cause any of these terms to become non-positive (`A`, `B` and `C` are already known to be positive in this case, so they don't have an interesting replacement). By inspection the only term that can change is the `2 d e f` term, and it at most could only be made larger."
   ]
  },
  {
   "cell_type": "markdown",
   "metadata": {},
   "source": [
    "Now let's try the semi-definite case. \n",
    "\n",
    "We want to apply\n",
    "\n",
    "> Prussing, John E. (1986), \"The Principal Minor Test for Semidefinite Matrices\" ([PDF](https://web.archive.org/web/20170107084552/http://prussing.ae.illinois.edu/semidef.pdf)), Journal of Guidance, Control, and Dynamics, 9 (1): 121–122, archived from the original ([PDF](http://prussing.ae.illinois.edu/semidef.pdf)).\n",
    "\n",
    "So we change our assumptions from positive to non-negative and have to check more principal minors."
   ]
  },
  {
   "cell_type": "code",
   "execution_count": 8,
   "metadata": {},
   "outputs": [],
   "source": [
    "mat1b = sympy.Matrix([\n",
    "    [mat3[1,1]]])\n",
    "mat1c = sympy.Matrix([\n",
    "    [mat3[2,2]]])\n",
    "mat2b = sympy.Matrix([\n",
    "    [mat3[0, 0], mat3[0, 2]], \n",
    "    [mat3[2, 0], mat3[2, 2]]])\n",
    "mat2c = sympy.Matrix([\n",
    "    [mat3[1, 1], mat3[1, 2]], \n",
    "    [mat3[2, 1], mat3[2, 2]]])"
   ]
  },
  {
   "cell_type": "markdown",
   "metadata": {},
   "source": [
    "The determinants of the additional pricipal minors are as follows."
   ]
  },
  {
   "cell_type": "code",
   "execution_count": 9,
   "metadata": {},
   "outputs": [
    {
     "data": {
      "image/png": "[encoded data removed]",
      "text/latex": [
       "$\\displaystyle \\left[ B, \\  C, \\  A C - f^{2}, \\  B C - e^{2}\\right]$"
      ],
      "text/plain": [
       "⎡             2         2⎤\n",
       "⎣B, C, A⋅C - f , B⋅C - e ⎦"
      ]
     },
     "execution_count": 9,
     "metadata": {},
     "output_type": "execute_result"
    }
   ],
   "source": [
    "[mat1b.det(), mat1c.det(),\n",
    " mat2b.det(), mat2c.det()]"
   ]
  },
  {
   "cell_type": "markdown",
   "metadata": {},
   "source": [
    "By assumption these terms are non-netative. We need to if replacing the symbols `d`, `e`, and `f` with their absolute values (`|d|`, `|e|`, and `|f|`) preserves the non-negativity. The non-negativity of these additional minors follows quickly from the non-negativity of `A`, `B`, and `C`. And we have completed the arguments."
   ]
  },
  {
   "cell_type": "code",
   "execution_count": null,
   "metadata": {},
   "outputs": [],
   "source": []
  }
 ],
 "metadata": {
  "kernelspec": {
   "display_name": "Python 3",
   "language": "python",
   "name": "python3"
  },
  "language_info": {
   "codemirror_mode": {
    "name": "ipython",
    "version": 3
   },
   "file_extension": ".py",
   "mimetype": "text/x-python",
   "name": "python",
   "nbconvert_exporter": "python",
   "pygments_lexer": "ipython3",
   "version": "3.7.7"
  }
 },
 "nbformat": 4,
 "nbformat_minor": 4
}
